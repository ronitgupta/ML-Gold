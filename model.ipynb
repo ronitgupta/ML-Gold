{
 "cells": [
  {
   "cell_type": "code",
   "execution_count": 1,
   "id": "ad43b506",
   "metadata": {},
   "outputs": [],
   "source": [
    "import pandas as pd\n",
    "import numpy as np\n",
    "import matplotlib.pyplot as plt\n",
    "import seaborn as sns\n",
    "import warnings as warning\n",
    "warning.filterwarnings(\"ignore\")"
   ]
  },
  {
   "cell_type": "code",
   "execution_count": 2,
   "id": "99286caf",
   "metadata": {},
   "outputs": [],
   "source": [
    "df = pd.read_csv(\"~/Downloads/gld_price_data.csv\")"
   ]
  },
  {
   "cell_type": "code",
   "execution_count": 3,
   "id": "576cc97c",
   "metadata": {},
   "outputs": [
    {
     "data": {
      "text/html": [
       "<div>\n",
       "<style scoped>\n",
       "    .dataframe tbody tr th:only-of-type {\n",
       "        vertical-align: middle;\n",
       "    }\n",
       "\n",
       "    .dataframe tbody tr th {\n",
       "        vertical-align: top;\n",
       "    }\n",
       "\n",
       "    .dataframe thead th {\n",
       "        text-align: right;\n",
       "    }\n",
       "</style>\n",
       "<table border=\"1\" class=\"dataframe\">\n",
       "  <thead>\n",
       "    <tr style=\"text-align: right;\">\n",
       "      <th></th>\n",
       "      <th>Date</th>\n",
       "      <th>SPX</th>\n",
       "      <th>GLD</th>\n",
       "      <th>USO</th>\n",
       "      <th>SLV</th>\n",
       "      <th>EUR/USD</th>\n",
       "    </tr>\n",
       "  </thead>\n",
       "  <tbody>\n",
       "    <tr>\n",
       "      <th>0</th>\n",
       "      <td>1/2/2008</td>\n",
       "      <td>1447.160034</td>\n",
       "      <td>84.860001</td>\n",
       "      <td>78.470001</td>\n",
       "      <td>15.180</td>\n",
       "      <td>1.471692</td>\n",
       "    </tr>\n",
       "    <tr>\n",
       "      <th>1</th>\n",
       "      <td>1/3/2008</td>\n",
       "      <td>1447.160034</td>\n",
       "      <td>85.570000</td>\n",
       "      <td>78.370003</td>\n",
       "      <td>15.285</td>\n",
       "      <td>1.474491</td>\n",
       "    </tr>\n",
       "    <tr>\n",
       "      <th>2</th>\n",
       "      <td>1/4/2008</td>\n",
       "      <td>1411.630005</td>\n",
       "      <td>85.129997</td>\n",
       "      <td>77.309998</td>\n",
       "      <td>15.167</td>\n",
       "      <td>1.475492</td>\n",
       "    </tr>\n",
       "    <tr>\n",
       "      <th>3</th>\n",
       "      <td>1/7/2008</td>\n",
       "      <td>1416.180054</td>\n",
       "      <td>84.769997</td>\n",
       "      <td>75.500000</td>\n",
       "      <td>15.053</td>\n",
       "      <td>1.468299</td>\n",
       "    </tr>\n",
       "    <tr>\n",
       "      <th>4</th>\n",
       "      <td>1/8/2008</td>\n",
       "      <td>1390.189941</td>\n",
       "      <td>86.779999</td>\n",
       "      <td>76.059998</td>\n",
       "      <td>15.590</td>\n",
       "      <td>1.557099</td>\n",
       "    </tr>\n",
       "  </tbody>\n",
       "</table>\n",
       "</div>"
      ],
      "text/plain": [
       "       Date          SPX        GLD        USO     SLV   EUR/USD\n",
       "0  1/2/2008  1447.160034  84.860001  78.470001  15.180  1.471692\n",
       "1  1/3/2008  1447.160034  85.570000  78.370003  15.285  1.474491\n",
       "2  1/4/2008  1411.630005  85.129997  77.309998  15.167  1.475492\n",
       "3  1/7/2008  1416.180054  84.769997  75.500000  15.053  1.468299\n",
       "4  1/8/2008  1390.189941  86.779999  76.059998  15.590  1.557099"
      ]
     },
     "execution_count": 3,
     "metadata": {},
     "output_type": "execute_result"
    }
   ],
   "source": [
    "df.head()"
   ]
  },
  {
   "cell_type": "code",
   "execution_count": 4,
   "id": "40092613",
   "metadata": {},
   "outputs": [
    {
     "name": "stdout",
     "output_type": "stream",
     "text": [
      "<class 'pandas.core.frame.DataFrame'>\n",
      "RangeIndex: 2290 entries, 0 to 2289\n",
      "Data columns (total 6 columns):\n",
      " #   Column   Non-Null Count  Dtype  \n",
      "---  ------   --------------  -----  \n",
      " 0   Date     2290 non-null   object \n",
      " 1   SPX      2290 non-null   float64\n",
      " 2   GLD      2290 non-null   float64\n",
      " 3   USO      2290 non-null   float64\n",
      " 4   SLV      2290 non-null   float64\n",
      " 5   EUR/USD  2290 non-null   float64\n",
      "dtypes: float64(5), object(1)\n",
      "memory usage: 107.5+ KB\n"
     ]
    }
   ],
   "source": [
    "df.info()"
   ]
  },
  {
   "cell_type": "code",
   "execution_count": 5,
   "id": "39275228",
   "metadata": {},
   "outputs": [
    {
     "data": {
      "text/plain": [
       "(2290, 6)"
      ]
     },
     "execution_count": 5,
     "metadata": {},
     "output_type": "execute_result"
    }
   ],
   "source": [
    "df.shape"
   ]
  },
  {
   "cell_type": "code",
   "execution_count": 6,
   "id": "9c1082c0",
   "metadata": {},
   "outputs": [
    {
     "data": {
      "text/html": [
       "<div>\n",
       "<style scoped>\n",
       "    .dataframe tbody tr th:only-of-type {\n",
       "        vertical-align: middle;\n",
       "    }\n",
       "\n",
       "    .dataframe tbody tr th {\n",
       "        vertical-align: top;\n",
       "    }\n",
       "\n",
       "    .dataframe thead th {\n",
       "        text-align: right;\n",
       "    }\n",
       "</style>\n",
       "<table border=\"1\" class=\"dataframe\">\n",
       "  <thead>\n",
       "    <tr style=\"text-align: right;\">\n",
       "      <th></th>\n",
       "      <th>SPX</th>\n",
       "      <th>GLD</th>\n",
       "      <th>USO</th>\n",
       "      <th>SLV</th>\n",
       "      <th>EUR/USD</th>\n",
       "    </tr>\n",
       "  </thead>\n",
       "  <tbody>\n",
       "    <tr>\n",
       "      <th>count</th>\n",
       "      <td>2290.000000</td>\n",
       "      <td>2290.000000</td>\n",
       "      <td>2290.000000</td>\n",
       "      <td>2290.000000</td>\n",
       "      <td>2290.000000</td>\n",
       "    </tr>\n",
       "    <tr>\n",
       "      <th>mean</th>\n",
       "      <td>1654.315776</td>\n",
       "      <td>122.732875</td>\n",
       "      <td>31.842221</td>\n",
       "      <td>20.084997</td>\n",
       "      <td>1.283653</td>\n",
       "    </tr>\n",
       "    <tr>\n",
       "      <th>std</th>\n",
       "      <td>519.111540</td>\n",
       "      <td>23.283346</td>\n",
       "      <td>19.523517</td>\n",
       "      <td>7.092566</td>\n",
       "      <td>0.131547</td>\n",
       "    </tr>\n",
       "    <tr>\n",
       "      <th>min</th>\n",
       "      <td>676.530029</td>\n",
       "      <td>70.000000</td>\n",
       "      <td>7.960000</td>\n",
       "      <td>8.850000</td>\n",
       "      <td>1.039047</td>\n",
       "    </tr>\n",
       "    <tr>\n",
       "      <th>25%</th>\n",
       "      <td>1239.874969</td>\n",
       "      <td>109.725000</td>\n",
       "      <td>14.380000</td>\n",
       "      <td>15.570000</td>\n",
       "      <td>1.171313</td>\n",
       "    </tr>\n",
       "    <tr>\n",
       "      <th>50%</th>\n",
       "      <td>1551.434998</td>\n",
       "      <td>120.580002</td>\n",
       "      <td>33.869999</td>\n",
       "      <td>17.268500</td>\n",
       "      <td>1.303297</td>\n",
       "    </tr>\n",
       "    <tr>\n",
       "      <th>75%</th>\n",
       "      <td>2073.010070</td>\n",
       "      <td>132.840004</td>\n",
       "      <td>37.827501</td>\n",
       "      <td>22.882500</td>\n",
       "      <td>1.369971</td>\n",
       "    </tr>\n",
       "    <tr>\n",
       "      <th>max</th>\n",
       "      <td>2872.870117</td>\n",
       "      <td>184.589996</td>\n",
       "      <td>117.480003</td>\n",
       "      <td>47.259998</td>\n",
       "      <td>1.598798</td>\n",
       "    </tr>\n",
       "  </tbody>\n",
       "</table>\n",
       "</div>"
      ],
      "text/plain": [
       "               SPX          GLD          USO          SLV      EUR/USD\n",
       "count  2290.000000  2290.000000  2290.000000  2290.000000  2290.000000\n",
       "mean   1654.315776   122.732875    31.842221    20.084997     1.283653\n",
       "std     519.111540    23.283346    19.523517     7.092566     0.131547\n",
       "min     676.530029    70.000000     7.960000     8.850000     1.039047\n",
       "25%    1239.874969   109.725000    14.380000    15.570000     1.171313\n",
       "50%    1551.434998   120.580002    33.869999    17.268500     1.303297\n",
       "75%    2073.010070   132.840004    37.827501    22.882500     1.369971\n",
       "max    2872.870117   184.589996   117.480003    47.259998     1.598798"
      ]
     },
     "execution_count": 6,
     "metadata": {},
     "output_type": "execute_result"
    }
   ],
   "source": [
    "df.describe()"
   ]
  },
  {
   "cell_type": "code",
   "execution_count": 7,
   "id": "869176f7",
   "metadata": {},
   "outputs": [
    {
     "name": "stdout",
     "output_type": "stream",
     "text": [
      "No missing value found\n"
     ]
    }
   ],
   "source": [
    "features_na = [features for features in df.columns if df[features].isnull().sum() > 0]\n",
    "for feature in features_na:\n",
    "    print(feature, np.round(df[feature].isnull().mean(), 4), ' % missing values')\n",
    "else:\n",
    "    print(\"No missing value found\")"
   ]
  },
  {
   "cell_type": "code",
   "execution_count": 8,
   "id": "e750dcf1",
   "metadata": {},
   "outputs": [
    {
     "name": "stdout",
     "output_type": "stream",
     "text": [
      "Date 2290\n",
      "SPX 2277\n",
      "GLD 1930\n",
      "USO 1514\n",
      "SLV 1331\n",
      "EUR/USD 2066\n"
     ]
    }
   ],
   "source": [
    "for column in df.columns:\n",
    "    print(column,df[column].nunique())"
   ]
  },
  {
   "cell_type": "code",
   "execution_count": 9,
   "id": "21091640",
   "metadata": {},
   "outputs": [
    {
     "data": {
      "text/plain": [
       "['Date']"
      ]
     },
     "execution_count": 9,
     "metadata": {},
     "output_type": "execute_result"
    }
   ],
   "source": [
    "categorical_features=[feature for feature in df.columns if ((df[feature].dtypes=='O') & (feature not in ['GLD']))]\n",
    "categorical_features"
   ]
  },
  {
   "cell_type": "code",
   "execution_count": 10,
   "id": "fb5f91f8",
   "metadata": {},
   "outputs": [
    {
     "name": "stdout",
     "output_type": "stream",
     "text": [
      "The feautre is Date and number of categories are 2290\n"
     ]
    }
   ],
   "source": [
    "for feature in categorical_features:\n",
    "    print(\"The feautre is {} and number of categories are {}\".format(feature,len(df[feature].unique())))"
   ]
  },
  {
   "cell_type": "code",
   "execution_count": 11,
   "id": "21cdedc1",
   "metadata": {},
   "outputs": [
    {
     "name": "stdout",
     "output_type": "stream",
     "text": [
      "Number of numerical variables:  4\n"
     ]
    },
    {
     "data": {
      "text/html": [
       "<div>\n",
       "<style scoped>\n",
       "    .dataframe tbody tr th:only-of-type {\n",
       "        vertical-align: middle;\n",
       "    }\n",
       "\n",
       "    .dataframe tbody tr th {\n",
       "        vertical-align: top;\n",
       "    }\n",
       "\n",
       "    .dataframe thead th {\n",
       "        text-align: right;\n",
       "    }\n",
       "</style>\n",
       "<table border=\"1\" class=\"dataframe\">\n",
       "  <thead>\n",
       "    <tr style=\"text-align: right;\">\n",
       "      <th></th>\n",
       "      <th>SPX</th>\n",
       "      <th>USO</th>\n",
       "      <th>SLV</th>\n",
       "      <th>EUR/USD</th>\n",
       "    </tr>\n",
       "  </thead>\n",
       "  <tbody>\n",
       "    <tr>\n",
       "      <th>0</th>\n",
       "      <td>1447.160034</td>\n",
       "      <td>78.470001</td>\n",
       "      <td>15.180</td>\n",
       "      <td>1.471692</td>\n",
       "    </tr>\n",
       "    <tr>\n",
       "      <th>1</th>\n",
       "      <td>1447.160034</td>\n",
       "      <td>78.370003</td>\n",
       "      <td>15.285</td>\n",
       "      <td>1.474491</td>\n",
       "    </tr>\n",
       "    <tr>\n",
       "      <th>2</th>\n",
       "      <td>1411.630005</td>\n",
       "      <td>77.309998</td>\n",
       "      <td>15.167</td>\n",
       "      <td>1.475492</td>\n",
       "    </tr>\n",
       "    <tr>\n",
       "      <th>3</th>\n",
       "      <td>1416.180054</td>\n",
       "      <td>75.500000</td>\n",
       "      <td>15.053</td>\n",
       "      <td>1.468299</td>\n",
       "    </tr>\n",
       "    <tr>\n",
       "      <th>4</th>\n",
       "      <td>1390.189941</td>\n",
       "      <td>76.059998</td>\n",
       "      <td>15.590</td>\n",
       "      <td>1.557099</td>\n",
       "    </tr>\n",
       "  </tbody>\n",
       "</table>\n",
       "</div>"
      ],
      "text/plain": [
       "           SPX        USO     SLV   EUR/USD\n",
       "0  1447.160034  78.470001  15.180  1.471692\n",
       "1  1447.160034  78.370003  15.285  1.474491\n",
       "2  1411.630005  77.309998  15.167  1.475492\n",
       "3  1416.180054  75.500000  15.053  1.468299\n",
       "4  1390.189941  76.059998  15.590  1.557099"
      ]
     },
     "execution_count": 11,
     "metadata": {},
     "output_type": "execute_result"
    }
   ],
   "source": [
    "numerical_features = [feature for feature in df.columns if ((df[feature].dtypes != 'O') & (feature not in ['GLD']))]\n",
    "print('Number of numerical variables: ',len(numerical_features))\n",
    "\n",
    "df[numerical_features].head()"
   ]
  },
  {
   "cell_type": "code",
   "execution_count": 12,
   "id": "71538486",
   "metadata": {},
   "outputs": [
    {
     "name": "stdout",
     "output_type": "stream",
     "text": [
      "Discrete Variables Count: 0\n"
     ]
    }
   ],
   "source": [
    "discrete_feature=[feature for feature in numerical_features if len(df[feature].unique()) < 25]\n",
    "print(\"Discrete Variables Count: {}\".format(len(discrete_feature)))"
   ]
  },
  {
   "cell_type": "code",
   "execution_count": 13,
   "id": "cebc6b46",
   "metadata": {},
   "outputs": [
    {
     "name": "stdout",
     "output_type": "stream",
     "text": [
      "Continous Feature Count: 4\n"
     ]
    }
   ],
   "source": [
    "continous_features=[feature for feature in numerical_features if feature not in discrete_feature+['GOD']]\n",
    "print(\"Continous Feature Count: {}\".format(len(continous_features)))"
   ]
  },
  {
   "cell_type": "code",
   "execution_count": 14,
   "id": "d48db171",
   "metadata": {},
   "outputs": [
    {
     "data": {
      "image/png": "[encoded data removed]",
      "text/plain": [
       "<Figure size 1440x4320 with 4 Axes>"
      ]
     },
     "metadata": {},
     "output_type": "display_data"
    }
   ],
   "source": [
    "plt.figure(figsize=(20,60),facecolor='white')\n",
    "plotnumber = 1\n",
    "for continous_feature in continous_features:\n",
    "    ax = plt.subplot(12,3,plotnumber)\n",
    "    sns.distplot(df[continous_feature])\n",
    "    plt.xlabel(continous_feature)\n",
    "    plotnumber+=1\n",
    "plt.show()"
   ]
  },
  {
   "cell_type": "code",
   "execution_count": 15,
   "id": "c4f87356",
   "metadata": {},
   "outputs": [
    {
     "data": {
      "image/png": "[encoded data removed]",
      "text/plain": [
       "<Figure size 1440x4320 with 4 Axes>"
      ]
     },
     "metadata": {},
     "output_type": "display_data"
    }
   ],
   "source": [
    "plt.figure(figsize=(20,60),facecolor='white')\n",
    "plotnumber = 1\n",
    "for feature in continous_features:\n",
    "    data = df.copy()\n",
    "    ax = plt.subplot(12,3,plotnumber)\n",
    "    plt.scatter(data[feature],data['GLD'])\n",
    "    plt.xlabel(feature)\n",
    "    plt.ylabel('GLD')\n",
    "    plt.title(feature)\n",
    "    plotnumber+=1\n",
    "plt.show()"
   ]
  },
  {
   "cell_type": "code",
   "execution_count": 16,
   "id": "8bc0e4d5",
   "metadata": {},
   "outputs": [
    {
     "data": {
      "image/png": "[encoded data removed]",
      "text/plain": [
       "<Figure size 1440x4320 with 4 Axes>"
      ]
     },
     "metadata": {},
     "output_type": "display_data"
    }
   ],
   "source": [
    "plt.figure(figsize=(20,60),facecolor='white')\n",
    "plotnumber = 1\n",
    "for numerical_feature in numerical_features:\n",
    "    ax = plt.subplot(12,3,plotnumber)\n",
    "    sns.boxplot(df[numerical_feature])\n",
    "    plt.xlabel(numerical_feature)\n",
    "    plotnumber+=1\n",
    "plt.show()"
   ]
  },
  {
   "cell_type": "code",
   "execution_count": 17,
   "id": "d23bb40d",
   "metadata": {},
   "outputs": [
    {
     "data": {
      "image/png": "[encoded data removed]",
      "text/plain": [
       "<Figure size 1080x504 with 2 Axes>"
      ]
     },
     "metadata": {
      "needs_background": "light"
     },
     "output_type": "display_data"
    }
   ],
   "source": [
    "cor_mat = df.corr()\n",
    "fig = plt.figure(figsize=(15,7))\n",
    "sns.heatmap(cor_mat,annot=True)\n",
    "plt.show()"
   ]
  },
  {
   "cell_type": "code",
   "execution_count": 18,
   "id": "8d6a6cbf",
   "metadata": {},
   "outputs": [
    {
     "name": "stdout",
     "output_type": "stream",
     "text": [
      "GLD        1.000000\n",
      "SLV        0.866632\n",
      "SPX        0.049345\n",
      "EUR/USD   -0.024375\n",
      "USO       -0.186360\n",
      "Name: GLD, dtype: float64 \n",
      "\n"
     ]
    }
   ],
   "source": [
    "print(cor_mat['GLD'].sort_values(ascending=False), '\\n')"
   ]
  },
  {
   "cell_type": "code",
   "execution_count": 19,
   "id": "df196ef6",
   "metadata": {},
   "outputs": [],
   "source": [
    "df2 = df.copy()"
   ]
  },
  {
   "cell_type": "code",
   "execution_count": 20,
   "id": "a27966ba",
   "metadata": {},
   "outputs": [
    {
     "data": {
      "text/html": [
       "<div>\n",
       "<style scoped>\n",
       "    .dataframe tbody tr th:only-of-type {\n",
       "        vertical-align: middle;\n",
       "    }\n",
       "\n",
       "    .dataframe tbody tr th {\n",
       "        vertical-align: top;\n",
       "    }\n",
       "\n",
       "    .dataframe thead th {\n",
       "        text-align: right;\n",
       "    }\n",
       "</style>\n",
       "<table border=\"1\" class=\"dataframe\">\n",
       "  <thead>\n",
       "    <tr style=\"text-align: right;\">\n",
       "      <th></th>\n",
       "      <th>Date</th>\n",
       "      <th>SPX</th>\n",
       "      <th>GLD</th>\n",
       "      <th>USO</th>\n",
       "      <th>SLV</th>\n",
       "      <th>EUR/USD</th>\n",
       "    </tr>\n",
       "  </thead>\n",
       "  <tbody>\n",
       "    <tr>\n",
       "      <th>0</th>\n",
       "      <td>1/2/2008</td>\n",
       "      <td>1447.160034</td>\n",
       "      <td>84.860001</td>\n",
       "      <td>78.470001</td>\n",
       "      <td>15.180</td>\n",
       "      <td>1.471692</td>\n",
       "    </tr>\n",
       "    <tr>\n",
       "      <th>1</th>\n",
       "      <td>1/3/2008</td>\n",
       "      <td>1447.160034</td>\n",
       "      <td>85.570000</td>\n",
       "      <td>78.370003</td>\n",
       "      <td>15.285</td>\n",
       "      <td>1.474491</td>\n",
       "    </tr>\n",
       "    <tr>\n",
       "      <th>2</th>\n",
       "      <td>1/4/2008</td>\n",
       "      <td>1411.630005</td>\n",
       "      <td>85.129997</td>\n",
       "      <td>77.309998</td>\n",
       "      <td>15.167</td>\n",
       "      <td>1.475492</td>\n",
       "    </tr>\n",
       "    <tr>\n",
       "      <th>3</th>\n",
       "      <td>1/7/2008</td>\n",
       "      <td>1416.180054</td>\n",
       "      <td>84.769997</td>\n",
       "      <td>75.500000</td>\n",
       "      <td>15.053</td>\n",
       "      <td>1.468299</td>\n",
       "    </tr>\n",
       "    <tr>\n",
       "      <th>4</th>\n",
       "      <td>1/8/2008</td>\n",
       "      <td>1390.189941</td>\n",
       "      <td>86.779999</td>\n",
       "      <td>76.059998</td>\n",
       "      <td>15.590</td>\n",
       "      <td>1.557099</td>\n",
       "    </tr>\n",
       "  </tbody>\n",
       "</table>\n",
       "</div>"
      ],
      "text/plain": [
       "       Date          SPX        GLD        USO     SLV   EUR/USD\n",
       "0  1/2/2008  1447.160034  84.860001  78.470001  15.180  1.471692\n",
       "1  1/3/2008  1447.160034  85.570000  78.370003  15.285  1.474491\n",
       "2  1/4/2008  1411.630005  85.129997  77.309998  15.167  1.475492\n",
       "3  1/7/2008  1416.180054  84.769997  75.500000  15.053  1.468299\n",
       "4  1/8/2008  1390.189941  86.779999  76.059998  15.590  1.557099"
      ]
     },
     "execution_count": 20,
     "metadata": {},
     "output_type": "execute_result"
    }
   ],
   "source": [
    "df2.head()"
   ]
  },
  {
   "cell_type": "code",
   "execution_count": 21,
   "id": "a76616fe",
   "metadata": {},
   "outputs": [],
   "source": [
    "df2.drop(['Date'],axis=1,inplace=True)"
   ]
  },
  {
   "cell_type": "code",
   "execution_count": 22,
   "id": "16cebdab",
   "metadata": {},
   "outputs": [],
   "source": [
    "X = df2.drop(['GLD'],axis=1)\n",
    "y = df2['GLD']\n",
    "from sklearn.model_selection import train_test_split\n",
    "X_train, X_test, y_train, y_test = train_test_split(X,y,test_size=0.2,random_state=0)"
   ]
  },
  {
   "cell_type": "code",
   "execution_count": 23,
   "id": "4ebd18ae",
   "metadata": {},
   "outputs": [
    {
     "data": {
      "text/plain": [
       "1832"
      ]
     },
     "execution_count": 23,
     "metadata": {},
     "output_type": "execute_result"
    }
   ],
   "source": [
    "len(X_train)"
   ]
  },
  {
   "cell_type": "code",
   "execution_count": 24,
   "id": "63f165ca",
   "metadata": {},
   "outputs": [
    {
     "data": {
      "text/plain": [
       "458"
      ]
     },
     "execution_count": 24,
     "metadata": {},
     "output_type": "execute_result"
    }
   ],
   "source": [
    "len(X_test)"
   ]
  },
  {
   "cell_type": "code",
   "execution_count": null,
   "id": "4af45161",
   "metadata": {},
   "outputs": [],
   "source": [
    "X_train"
   ]
  },
  {
   "cell_type": "code",
   "execution_count": 25,
   "id": "97f75540",
   "metadata": {},
   "outputs": [],
   "source": [
    "from sklearn.tree import DecisionTreeRegressor\n",
    "from xgboost import XGBRegressor\n",
    "from sklearn.ensemble import RandomForestRegressor\n",
    "from sklearn.model_selection import ShuffleSplit\n",
    "from sklearn.model_selection import GridSearchCV"
   ]
  },
  {
   "cell_type": "code",
   "execution_count": 26,
   "id": "6eabd6c9",
   "metadata": {},
   "outputs": [],
   "source": [
    "def find_best_model_using_gridsearchcv(X,y):\n",
    "    algos = {\n",
    "        'decision_tree': {\n",
    "            'model' : DecisionTreeRegressor(),\n",
    "            'params' : {\n",
    "                'criterion' : ['mse','friedman_mse'],\n",
    "                'splitter' : ['best','random'] }\n",
    "            },\n",
    "            'RandomForestRegressor' : {\n",
    "                'model' : RandomForestRegressor(),\n",
    "                'params': {\n",
    "                    'n_estimators': [10,50,100,130],\n",
    "                    'criterion': ['mse'],\n",
    "                    'max_depth': range(2,4,1),\n",
    "                    'max_features': ['auto','log2']\n",
    "                } \n",
    "            },\n",
    "            'XGBRegressor' : {\n",
    "                'model' : XGBRegressor(),\n",
    "                'params' : {\n",
    "                    'learning_rate' : [0.5, 0.1, 0.01, 0.001],\n",
    "                    'max_depth' : [2, 3],\n",
    "                    'n_estimators' : [10, 50, 100, 200]\n",
    "                }\n",
    "            }\n",
    "        }\n",
    "    scores = []\n",
    "    cv = ShuffleSplit(n_splits=5,test_size=0.2, random_state=0)\n",
    "    for algo_name, config in algos.items():\n",
    "        gs = GridSearchCV(config['model'], config['params'], cv=cv, return_train_score=False)\n",
    "        gs.fit(X,y)\n",
    "        scores.append({\n",
    "            'model': algo_name,\n",
    "            'best_score': gs.best_score_,\n",
    "            'best_params': gs.best_params_\n",
    "        })\n",
    "    return pd.DataFrame(scores,columns=['model','best_score','best_params'])\n"
   ]
  },
  {
   "cell_type": "code",
   "execution_count": 27,
   "id": "b41724d0",
   "metadata": {},
   "outputs": [
    {
     "data": {
      "text/html": [
       "<div>\n",
       "<style scoped>\n",
       "    .dataframe tbody tr th:only-of-type {\n",
       "        vertical-align: middle;\n",
       "    }\n",
       "\n",
       "    .dataframe tbody tr th {\n",
       "        vertical-align: top;\n",
       "    }\n",
       "\n",
       "    .dataframe thead th {\n",
       "        text-align: right;\n",
       "    }\n",
       "</style>\n",
       "<table border=\"1\" class=\"dataframe\">\n",
       "  <thead>\n",
       "    <tr style=\"text-align: right;\">\n",
       "      <th></th>\n",
       "      <th>model</th>\n",
       "      <th>best_score</th>\n",
       "      <th>best_params</th>\n",
       "    </tr>\n",
       "  </thead>\n",
       "  <tbody>\n",
       "    <tr>\n",
       "      <th>0</th>\n",
       "      <td>decision_tree</td>\n",
       "      <td>0.982685</td>\n",
       "      <td>{'criterion': 'friedman_mse', 'splitter': 'random'}</td>\n",
       "    </tr>\n",
       "    <tr>\n",
       "      <th>1</th>\n",
       "      <td>RandomForestRegressor</td>\n",
       "      <td>0.908800</td>\n",
       "      <td>{'criterion': 'mse', 'max_depth': 3, 'max_features': 'log2', 'n_estimators': 130}</td>\n",
       "    </tr>\n",
       "    <tr>\n",
       "      <th>2</th>\n",
       "      <td>XGBRegressor</td>\n",
       "      <td>0.984461</td>\n",
       "      <td>{'learning_rate': 0.5, 'max_depth': 3, 'n_estimators': 200}</td>\n",
       "    </tr>\n",
       "  </tbody>\n",
       "</table>\n",
       "</div>"
      ],
      "text/plain": [
       "                   model  best_score  \\\n",
       "0          decision_tree    0.982685   \n",
       "1  RandomForestRegressor    0.908800   \n",
       "2           XGBRegressor    0.984461   \n",
       "\n",
       "                                                                         best_params  \n",
       "0                                {'criterion': 'friedman_mse', 'splitter': 'random'}  \n",
       "1  {'criterion': 'mse', 'max_depth': 3, 'max_features': 'log2', 'n_estimators': 130}  \n",
       "2                        {'learning_rate': 0.5, 'max_depth': 3, 'n_estimators': 200}  "
      ]
     },
     "execution_count": 27,
     "metadata": {},
     "output_type": "execute_result"
    }
   ],
   "source": [
    "pd.set_option('display.max_colwidth',100)\n",
    "find_best_model_using_gridsearchcv(X,y)"
   ]
  },
  {
   "cell_type": "code",
   "execution_count": 28,
   "id": "f31e9b4f",
   "metadata": {},
   "outputs": [],
   "source": [
    "model_xgb = XGBRegressor()"
   ]
  },
  {
   "cell_type": "code",
   "execution_count": 29,
   "id": "9687decb",
   "metadata": {},
   "outputs": [
    {
     "data": {
      "text/plain": [
       "XGBRegressor(base_score=0.5, booster='gbtree', colsample_bylevel=1,\n",
       "             colsample_bynode=1, colsample_bytree=1, enable_categorical=False,\n",
       "             gamma=0, gpu_id=-1, importance_type=None,\n",
       "             interaction_constraints='', learning_rate=0.300000012,\n",
       "             max_delta_step=0, max_depth=6, min_child_weight=1, missing=nan,\n",
       "             monotone_constraints='()', n_estimators=100, n_jobs=8,\n",
       "             num_parallel_tree=1, predictor='auto', random_state=0, reg_alpha=0,\n",
       "             reg_lambda=1, scale_pos_weight=1, subsample=1, tree_method='exact',\n",
       "             validate_parameters=1, verbosity=None)"
      ]
     },
     "execution_count": 29,
     "metadata": {},
     "output_type": "execute_result"
    }
   ],
   "source": [
    "model_xgb.fit(X_train,y_train)"
   ]
  },
  {
   "cell_type": "code",
   "execution_count": 30,
   "id": "f130f3f6",
   "metadata": {},
   "outputs": [
    {
     "data": {
      "text/plain": [
       "0.9890168067380418"
      ]
     },
     "execution_count": 30,
     "metadata": {},
     "output_type": "execute_result"
    }
   ],
   "source": [
    "model_xgb.score(X_test,y_test)"
   ]
  },
  {
   "cell_type": "code",
   "execution_count": 31,
   "id": "68d1ebc3",
   "metadata": {},
   "outputs": [],
   "source": [
    "y_pred = model_xgb.predict(X_test)"
   ]
  },
  {
   "cell_type": "code",
   "execution_count": 32,
   "id": "88243622",
   "metadata": {},
   "outputs": [
    {
     "data": {
      "text/plain": [
       "array([128.07846 , 116.58004 , 140.29118 , 122.02655 ,  93.47845 ,\n",
       "       152.73148 , 117.1758  , 112.79819 , 148.9887  , 105.208855,\n",
       "       103.1184  , 120.183624,  92.43471 , 156.80748 , 121.42672 ,\n",
       "       117.341606,  86.63259 ,  92.11299 ,  93.13703 , 123.48713 ,\n",
       "        83.043175, 117.37038 , 125.94271 , 173.71443 , 169.92001 ,\n",
       "       139.65176 , 114.262695, 161.85512 , 131.62967 , 115.60149 ,\n",
       "       111.05125 , 104.582184, 128.81955 , 121.363884,  97.72189 ,\n",
       "       120.377106,  86.49455 , 115.011856, 127.48014 , 139.91621 ,\n",
       "       108.99186 , 132.03302 , 102.27399 , 133.19984 , 135.04265 ,\n",
       "       150.19016 , 120.21305 , 160.4436  , 156.03621 , 127.56957 ,\n",
       "       122.426956, 113.30193 , 124.549324, 118.56411 , 153.61505 ,\n",
       "       124.33473 , 111.84775 ,  86.54873 , 156.8647  , 118.879   ,\n",
       "        88.004395, 114.42819 ,  82.94642 , 146.39336 , 126.58683 ,\n",
       "       127.50794 , 125.03782 , 121.28393 , 168.07477 , 122.08874 ,\n",
       "       125.759125, 172.96252 , 121.80695 , 173.00119 , 120.31349 ,\n",
       "       127.07636 , 152.91415 , 107.77379 , 115.55325 , 157.59872 ,\n",
       "       119.842735, 125.528366, 117.43272 , 121.48268 , 110.407684,\n",
       "       160.28687 , 114.65746 , 114.41791 , 125.33343 ,  96.85915 ,\n",
       "       113.080795, 114.01852 ,  78.24295 , 160.86986 , 126.20181 ,\n",
       "       118.19087 ,  91.81552 , 104.52249 , 138.03386 ,  91.67884 ,\n",
       "       155.74922 , 123.17149 , 124.29864 , 115.15336 ,  87.145905,\n",
       "       133.47293 , 125.76485 , 167.51848 , 111.53176 , 167.97287 ,\n",
       "       104.0809  , 137.42888 , 114.91675 , 119.951584,  93.241356,\n",
       "       166.44688 , 113.34311 , 109.698784,  82.58436 , 108.56564 ,\n",
       "       152.76746 ,  94.08351 ,  74.09474 , 121.10439 , 103.14452 ,\n",
       "       117.65261 , 121.801926, 133.91103 , 118.634964, 107.258484,\n",
       "       107.38055 , 113.68633 ,  94.02969 , 122.69993 , 120.47976 ,\n",
       "       113.1218  ,  72.38475 , 127.13056 ,  79.686195, 115.45914 ,\n",
       "       116.638176, 154.58426 , 137.63548 , 113.81396 , 166.36424 ,\n",
       "       131.94592 , 124.681076, 118.01732 , 124.90566 , 121.1583  ,\n",
       "       160.908   , 107.45383 , 117.72492 ,  87.48389 , 126.97542 ,\n",
       "       112.26343 ,  85.20559 , 110.430084, 117.551506,  86.706856,\n",
       "       132.44289 , 146.0099  , 133.36244 , 115.66088 , 128.86015 ,\n",
       "       118.09734 ,  99.43229 , 117.042435, 114.94362 , 118.81273 ,\n",
       "       157.24706 , 122.0855  ,  90.85079 , 120.86581 , 104.94714 ,\n",
       "       122.38999 , 106.09886 , 107.48146 , 121.042725, 126.09793 ,\n",
       "        88.13881 , 173.55664 , 120.71935 , 117.8523  , 163.48294 ,\n",
       "       122.80008 , 111.605125, 128.49019 , 131.0111  , 121.51588 ,\n",
       "       119.68596 , 136.22618 , 145.55772 , 117.2826  , 160.2785  ,\n",
       "       135.77147 , 123.31548 , 125.95881 , 182.55113 , 121.9989  ,\n",
       "       161.08748 , 109.62545 , 130.96326 ,  92.728424,  94.99645 ,\n",
       "        90.21273 , 106.08904 , 113.90687 , 162.2398  , 164.00626 ,\n",
       "       154.67244 , 114.14916 , 117.16903 , 118.966   , 118.63051 ,\n",
       "        91.20053 , 102.51561 , 154.4323  , 104.87524 , 102.3916  ,\n",
       "       151.75249 ,  75.482025, 121.21186 , 167.96329 , 114.93233 ,\n",
       "       148.14903 , 151.36145 , 139.95058 , 153.95877 , 130.19969 ,\n",
       "       128.55486 , 123.25892 , 116.23929 , 137.00554 , 164.29826 ,\n",
       "       150.77159 , 128.20471 , 161.6953  , 127.728935, 104.87524 ,\n",
       "       167.97385 , 117.26458 ,  83.68382 , 164.00893 , 153.72873 ,\n",
       "       117.12072 , 127.37649 ,  90.45165 ,  90.818954, 113.68633 ,\n",
       "        87.486   , 114.0167  , 119.01865 , 155.5924  , 117.40771 ,\n",
       "       108.01797 , 117.74333 , 137.30806 , 110.34194 , 122.641396,\n",
       "        80.054756, 126.74159 , 125.92098 , 168.95668 , 126.95109 ,\n",
       "       142.72627 , 116.835365, 164.42038 , 103.68199 , 174.09065 ,\n",
       "       110.78738 , 115.3917  ,  87.73864 , 126.034904, 117.38389 ,\n",
       "       153.84143 , 163.485   ,  83.433266, 106.18366 , 112.673416,\n",
       "       110.84306 , 107.907   , 118.30023 ,  89.90826 ,  87.81888 ,\n",
       "        83.25492 , 138.07028 , 127.206245, 118.91979 ,  94.336494,\n",
       "       110.13052 ,  77.1608  ,  72.70202 , 118.34906 , 119.890335,\n",
       "        90.14343 , 111.31977 , 117.461334, 117.624725, 124.93567 ,\n",
       "       151.34648 ,  87.8876  , 131.87015 , 116.84227 , 154.69308 ,\n",
       "       105.858116, 145.2291  , 123.17038 , 116.219574, 113.45456 ,\n",
       "       125.06112 , 133.92896 , 140.06558 , 116.219864, 128.35507 ,\n",
       "        96.83829 , 115.21412 ,  87.64814 ,  89.48818 , 108.002426,\n",
       "       133.68529 , 149.76671 , 163.20355 , 118.57771 , 105.67521 ,\n",
       "       100.60689 , 151.8932  , 152.47185 , 105.40557 , 138.47661 ,\n",
       "       122.33721 , 126.88671 ,  87.29943 , 171.65977 , 117.643845,\n",
       "       143.63899 , 115.40484 ,  86.16594 , 119.39997 , 135.82132 ,\n",
       "       116.46657 , 139.75258 , 118.64906 , 166.69116 , 120.87517 ,\n",
       "       119.85364 , 120.9666  , 127.01556 ,  88.04592 , 144.10611 ,\n",
       "       113.44928 , 112.22281 , 114.163536, 156.26118 ,  92.76998 ,\n",
       "        91.894226, 120.46401 , 158.10522 , 118.57021 , 156.25882 ,\n",
       "       126.99283 , 163.09364 , 123.00664 , 132.6283  , 123.0553  ,\n",
       "        73.256714,  93.09781 ,  90.94641 , 122.57911 , 112.70437 ,\n",
       "       118.08237 , 107.57921 , 125.98867 , 126.20102 , 123.2767  ,\n",
       "       119.96241 , 103.65877 , 110.45967 , 110.85794 , 149.66988 ,\n",
       "       125.56003 , 141.90909 , 125.789894, 145.01428 , 141.7784  ,\n",
       "       107.366516, 109.45448 , 130.0694  , 107.52826 , 116.5591  ,\n",
       "       120.13495 , 147.60762 ,  95.779625, 105.966995, 127.14039 ,\n",
       "       126.130066, 163.02353 , 121.88626 , 150.01862 , 112.75632 ,\n",
       "       125.273964,  88.90543 ,  80.59743 , 126.89736 , 126.1687  ,\n",
       "       149.51826 , 120.38658 , 126.92104 ,  86.39604 , 125.248055,\n",
       "       119.148544, 115.50586 , 102.386314, 121.91238 ,  94.09874 ,\n",
       "       103.07446 , 123.01128 , 115.8583  , 127.57507 ,  90.85386 ,\n",
       "       119.02518 , 107.05423 , 120.279564, 133.28593 ,  87.1757  ,\n",
       "       122.3301  , 102.45315 ,  99.1091  , 104.04362 ,  88.16331 ,\n",
       "       121.19962 , 123.8708  , 174.77605 , 125.88349 ,  95.567825,\n",
       "       161.63495 , 107.847626, 101.423294, 130.18141 , 113.88689 ,\n",
       "        87.020195, 167.76642 ,  89.889885,  89.49979 , 169.08679 ,\n",
       "       160.0986  , 165.69225 , 167.76744 , 125.71811 , 126.50993 ,\n",
       "       121.3412  ,  91.10181 , 119.21277 , 119.70178 , 128.97087 ,\n",
       "       163.9942  , 115.11319 , 107.5588  ], dtype=float32)"
      ]
     },
     "execution_count": 32,
     "metadata": {},
     "output_type": "execute_result"
    }
   ],
   "source": [
    "y_pred"
   ]
  },
  {
   "cell_type": "code",
   "execution_count": 33,
   "id": "e660e04b",
   "metadata": {},
   "outputs": [
    {
     "data": {
      "text/plain": [
       "1255    128.789993\n",
       "2100    115.620003\n",
       "711     139.220001\n",
       "1328    120.930000\n",
       "53       93.040001\n",
       "           ...    \n",
       "2085    120.360001\n",
       "1362    129.130005\n",
       "828     159.869995\n",
       "567     117.339996\n",
       "1693    106.379997\n",
       "Name: GLD, Length: 458, dtype: float64"
      ]
     },
     "execution_count": 33,
     "metadata": {},
     "output_type": "execute_result"
    }
   ],
   "source": [
    "y_test"
   ]
  },
  {
   "cell_type": "code",
   "execution_count": null,
   "id": "1f5f410b",
   "metadata": {},
   "outputs": [],
   "source": []
  }
 ],
 "metadata": {
  "kernelspec": {
   "display_name": "Python 3 (ipykernel)",
   "language": "python",
   "name": "python3"
  },
  "language_info": {
   "codemirror_mode": {
    "name": "ipython",
    "version": 3
   },
   "file_extension": ".py",
   "mimetype": "text/x-python",
   "name": "python",
   "nbconvert_exporter": "python",
   "pygments_lexer": "ipython3",
   "version": "3.9.12"
  }
 },
 "nbformat": 4,
 "nbformat_minor": 5
}
